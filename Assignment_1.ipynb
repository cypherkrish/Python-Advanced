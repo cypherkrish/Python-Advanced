{
 "cells": [
  {
   "cell_type": "markdown",
   "id": "103a4543-b16a-4f5e-b70c-649c5d4b421e",
   "metadata": {},
   "source": [
    "## Q1. What is the purpose of Python&#39;s OOP?"
   ]
  },
  {
   "cell_type": "markdown",
   "id": "e66b525c-6baa-4e68-b2ba-77f19a98a7d4",
   "metadata": {},
   "source": [
    "In Python, object-oriented Programming (OOPs) is a programming paradigm that uses objects and classes in programming. It aims to implement real-world entities like inheritance, polymorphisms, encapsulation, etc. in the programming. The main concept of OOPs is to bind the data and the functions that work on that together as a single unit so that no other part of the code can access this data."
   ]
  },
  {
   "cell_type": "markdown",
   "id": "f4e762c5-da8b-401b-97a8-686b8615a8e7",
   "metadata": {},
   "source": [
    "## Q2. Where does an inheritance search look for an attribute?"
   ]
  },
  {
   "cell_type": "markdown",
   "id": "1e6ecc4f-3541-4878-9729-fa392c7c3a1a",
   "metadata": {},
   "source": [
    "An inheritance search looks for an attribute first in the instance object, then in the class the instance was created from, then in all higher superclasses, progressing from left to right (by default). The search stops at the first place the attribute is found.\n"
   ]
  },
  {
   "cell_type": "markdown",
   "id": "866f84aa-d79b-4242-a5b4-f1aa0d77d87d",
   "metadata": {},
   "source": [
    "## Q3. How do you distinguish between a class object and an instance object?"
   ]
  },
  {
   "cell_type": "markdown",
   "id": "91e61312-83f2-43c6-8d9a-6493c64c4451",
   "metadata": {},
   "source": [
    "The name of the class itself can be used to access the class variables and functions. If the class name itslef is used to access the class variables and methodas then this is call calss object"
   ]
  },
  {
   "cell_type": "markdown",
   "id": "6bc3432d-9b8f-4aa7-8cfa-f113ff29e60c",
   "metadata": {},
   "source": [
    "And the object can be created for the class to access the class variables and methods. Then the object is called instance object"
   ]
  },
  {
   "cell_type": "markdown",
   "id": "75cc7a06-5e44-4c80-97bd-8159669ace72",
   "metadata": {},
   "source": [
    "#### Example:"
   ]
  },
  {
   "cell_type": "code",
   "execution_count": 21,
   "id": "af30aaa7-f02d-4047-9ee0-4ce2b27ad7ef",
   "metadata": {},
   "outputs": [],
   "source": [
    "class Student():\n",
    "    name = 'Krishna'\n",
    "    age = 16\n",
    "    \n",
    "    def __init__(self, std):\n",
    "        self.std = std\n",
    "    \n",
    "    def getMars(self, marks):\n",
    "        self.marks = marks\n",
    "        return (f'{self.name} secured: {self.marks}')\n",
    "        "
   ]
  },
  {
   "cell_type": "code",
   "execution_count": 22,
   "id": "4bbe40f1-1d10-4b6b-af3e-8bfcfc3c9083",
   "metadata": {},
   "outputs": [
    {
     "data": {
      "text/plain": [
       "'Krishna'"
      ]
     },
     "execution_count": 22,
     "metadata": {},
     "output_type": "execute_result"
    }
   ],
   "source": [
    "Student.name  # Class object"
   ]
  },
  {
   "cell_type": "code",
   "execution_count": 24,
   "id": "b82e9d36-0b58-41e8-b6d7-8194033a6792",
   "metadata": {},
   "outputs": [],
   "source": [
    "s1 = Student(1)  # instance object"
   ]
  },
  {
   "cell_type": "code",
   "execution_count": 8,
   "id": "ec58be29-5973-4e4b-8435-f743542392a6",
   "metadata": {},
   "outputs": [
    {
     "data": {
      "text/plain": [
       "'Krishna'"
      ]
     },
     "execution_count": 8,
     "metadata": {},
     "output_type": "execute_result"
    }
   ],
   "source": [
    "s1.name"
   ]
  },
  {
   "cell_type": "code",
   "execution_count": 25,
   "id": "f13f5676-97d2-41bb-9e3a-6f1ac9138423",
   "metadata": {},
   "outputs": [
    {
     "data": {
      "text/plain": [
       "'Krishna secured: 200'"
      ]
     },
     "execution_count": 25,
     "metadata": {},
     "output_type": "execute_result"
    }
   ],
   "source": [
    "s1.getMars(200)"
   ]
  },
  {
   "cell_type": "markdown",
   "id": "23dc1fdd-0044-42f8-91ad-6fa7f97bc156",
   "metadata": {},
   "source": [
    "## Q4. What makes the first argument in a class’s method function special?\n"
   ]
  },
  {
   "cell_type": "markdown",
   "id": "3c243ad9-3a81-40a4-b053-f8311a4eb919",
   "metadata": {},
   "source": [
    "The self is used to represent the instance of the class. With this keyword, you can access the attributes and methods of the class in python"
   ]
  },
  {
   "cell_type": "markdown",
   "id": "85927281-0665-4080-828a-799847720a65",
   "metadata": {},
   "source": [
    "## Q5. What is the purpose of the __init__ method?"
   ]
  },
  {
   "cell_type": "markdown",
   "id": "caef6a54-0042-426d-a284-01aefa83b67e",
   "metadata": {},
   "source": [
    "##### The __init__ method is the Python is also called as a constructor in an object-oriented approach. \n",
    "\n",
    "##### The __init__  function is called every time an object is created from a class.\n",
    "\n",
    "##### The __init__ method lets the class initialize the object’s attributes and serves no other purpose. It is only used within classes."
   ]
  },
  {
   "cell_type": "markdown",
   "id": "e4db3155-22f3-402a-a6f5-3314aae66f8a",
   "metadata": {},
   "source": [
    "## Q6. What is the process for creating a class instance?"
   ]
  },
  {
   "cell_type": "markdown",
   "id": "2dffcd4d-ecc6-4632-aa67-3acfd7f6732d",
   "metadata": {},
   "source": [
    "As soon as we define a class, a new class object is created with the same name. This class object allows us to access the different attributes as well as to instantiate new objects of that class."
   ]
  },
  {
   "cell_type": "code",
   "execution_count": 29,
   "id": "4de5a5c6-4060-460d-b81e-7dd9dcac25ba",
   "metadata": {},
   "outputs": [],
   "source": [
    "class Person:\n",
    "    'This is a person class'\n",
    "    age = 20\n",
    "    \n",
    "    def greet(self):\n",
    "        print('Hello')"
   ]
  },
  {
   "cell_type": "code",
   "execution_count": 30,
   "id": "174e1aa4-cd2a-4c0f-9c3d-77ec812381f2",
   "metadata": {},
   "outputs": [
    {
     "data": {
      "text/plain": [
       "20"
      ]
     },
     "execution_count": 30,
     "metadata": {},
     "output_type": "execute_result"
    }
   ],
   "source": [
    "Person.age"
   ]
  },
  {
   "cell_type": "code",
   "execution_count": 34,
   "id": "4e3ae7fe-74ef-4b3d-b54a-ba8c3d120d5a",
   "metadata": {},
   "outputs": [
    {
     "name": "stdout",
     "output_type": "stream",
     "text": [
      "<function Person.greet at 0x7fa46c421e10>\n"
     ]
    }
   ],
   "source": [
    "print(Person.greet)"
   ]
  },
  {
   "cell_type": "code",
   "execution_count": 35,
   "id": "bc1f9942-aeef-4bce-b066-431616202ca7",
   "metadata": {},
   "outputs": [
    {
     "data": {
      "text/plain": [
       "'This is a person class'"
      ]
     },
     "execution_count": 35,
     "metadata": {},
     "output_type": "execute_result"
    }
   ],
   "source": [
    "Person.__doc__"
   ]
  },
  {
   "cell_type": "markdown",
   "id": "0cb7e4ee-b6a7-4d2a-a4cf-81927fafcf00",
   "metadata": {},
   "source": [
    "## Q7. What is the process for creating a class?"
   ]
  },
  {
   "cell_type": "markdown",
   "id": "b5581d53-55cd-4881-a5f5-fc0093fffc73",
   "metadata": {},
   "source": [
    "Use the keyword - class to create a class.\n",
    "\n",
    "create class varialbles and class methods to work on the class variables.\n",
    "\n",
    "The class can be initiated by init function"
   ]
  },
  {
   "cell_type": "markdown",
   "id": "5ead92a8-0420-4b5d-adac-5f40e173f100",
   "metadata": {},
   "source": [
    "## Q8. How would you define the superclasses of a class?"
   ]
  },
  {
   "cell_type": "code",
   "execution_count": 51,
   "id": "2638647a-7041-46d5-840c-2a8937898ba2",
   "metadata": {},
   "outputs": [],
   "source": [
    "# Super class\n",
    "\n",
    "class Fater:   \n",
    "    def __init__(self):\n",
    "        self.property = 800000.00\n",
    "        \n",
    "    def display_property(self):\n",
    "        print('Father\\'s property: ', self.property)"
   ]
  },
  {
   "cell_type": "code",
   "execution_count": 52,
   "id": "820bd8a5-cdaa-4aed-b582-f01f6f3344e6",
   "metadata": {},
   "outputs": [],
   "source": [
    "# Child class\n",
    "\n",
    "class Son (Fater):\n",
    "    def __init__(self):\n",
    "        self.property = 200000.00\n",
    "    \n",
    "    def display_property(self):\n",
    "        print('Son\\'s property: ', self.property)"
   ]
  },
  {
   "cell_type": "code",
   "execution_count": 53,
   "id": "a74cc5ae-fb43-4aa7-b8fb-8d318bd60190",
   "metadata": {},
   "outputs": [],
   "source": [
    "s = Son()"
   ]
  },
  {
   "cell_type": "code",
   "execution_count": 54,
   "id": "d9c9c2df-c6cb-43cc-b4cd-772147ffbc36",
   "metadata": {},
   "outputs": [
    {
     "name": "stdout",
     "output_type": "stream",
     "text": [
      "Son's property:  200000.0\n"
     ]
    }
   ],
   "source": [
    "s.display_property()"
   ]
  },
  {
   "cell_type": "code",
   "execution_count": null,
   "id": "9f0e8706-edf3-4729-ae9a-dbc761bf5e82",
   "metadata": {},
   "outputs": [],
   "source": []
  }
 ],
 "metadata": {
  "kernelspec": {
   "display_name": "Python 3 (ipykernel)",
   "language": "python",
   "name": "python3"
  },
  "language_info": {
   "codemirror_mode": {
    "name": "ipython",
    "version": 3
   },
   "file_extension": ".py",
   "mimetype": "text/x-python",
   "name": "python",
   "nbconvert_exporter": "python",
   "pygments_lexer": "ipython3",
   "version": "3.10.6"
  }
 },
 "nbformat": 4,
 "nbformat_minor": 5
}
