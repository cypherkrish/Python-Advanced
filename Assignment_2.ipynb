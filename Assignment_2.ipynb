{
 "cells": [
  {
   "cell_type": "markdown",
   "id": "1c192813-aedb-43c2-99f4-764f4deea483",
   "metadata": {},
   "source": [
    "## Q1. What is the relationship between classes and modules?"
   ]
  },
  {
   "cell_type": "markdown",
   "id": "2101322c-656e-46f0-8b49-7ccf5dc23bbc",
   "metadata": {},
   "source": [
    "The difference between a class and a module in python is that a class is used to define a blueprint for a given object, whereas a module is used to reuse a given piece of code inside another program.\n",
    "\n",
    "Modeules will be used by importing - using import statement\n",
    "\n",
    "class variables and class methods will be used by creating a class object."
   ]
  },
  {
   "cell_type": "markdown",
   "id": "91ea28d8-0d7c-4216-abe1-903401c29790",
   "metadata": {},
   "source": [
    "## Q2. How do you make instances and classes?"
   ]
  },
  {
   "cell_type": "markdown",
   "id": "14f0886a-ef30-4de9-9e74-4a3cc67b6530",
   "metadata": {},
   "source": [
    "Syntax: Class Definition \n",
    "\n",
    "class ClassName:\n",
    "\n",
    "    # Statement"
   ]
  },
  {
   "cell_type": "markdown",
   "id": "fdb1b2aa-4b72-4f1d-b4ad-949ee5780e3f",
   "metadata": {},
   "source": [
    "The object of a class is called the instance of the Class\n",
    "\n",
    "Syntax: Object Definition\n",
    "\n",
    "obj = ClassName()\n",
    "\n",
    "print(obj.atrr)\n"
   ]
  },
  {
   "cell_type": "markdown",
   "id": "a9ba1593-164f-44bc-9dbc-57421f73828b",
   "metadata": {},
   "source": [
    "## Q3. Where and how should be class attributes created?"
   ]
  },
  {
   "cell_type": "markdown",
   "id": "3448a24a-e802-4611-86ba-0494b9f779fb",
   "metadata": {},
   "source": [
    "A class contains attributes which are nothing but variables. these can be shared by all the instances of the class.\n",
    "\n",
    "They are defined directly inside a class."
   ]
  },
  {
   "cell_type": "markdown",
   "id": "66fdedaa-69b5-408e-bf66-eafa07970b44",
   "metadata": {},
   "source": [
    "Example"
   ]
  },
  {
   "cell_type": "code",
   "execution_count": 18,
   "id": "bbb97314-b5c8-4fcd-a857-9edc7afa0f35",
   "metadata": {},
   "outputs": [],
   "source": [
    "class testclassAtt:\n",
    "    count = 0 # this is a class attribute\n",
    "    \n",
    "    def increaseCount(self):\n",
    "        testclassAtt.count += 1"
   ]
  },
  {
   "cell_type": "code",
   "execution_count": 19,
   "id": "cb1e4431-245e-426d-9ccc-b0b26ddf1b64",
   "metadata": {},
   "outputs": [],
   "source": [
    "c1 = testclassAtt()"
   ]
  },
  {
   "cell_type": "code",
   "execution_count": 20,
   "id": "1eb2f20c-aa66-4518-83c2-e40d18e3798c",
   "metadata": {},
   "outputs": [],
   "source": [
    "c1.increaseCount()"
   ]
  },
  {
   "cell_type": "code",
   "execution_count": 21,
   "id": "54867f32-9e86-4ba7-ac49-821486ab6d72",
   "metadata": {},
   "outputs": [
    {
     "name": "stdout",
     "output_type": "stream",
     "text": [
      "1\n"
     ]
    }
   ],
   "source": [
    "print(c1.count)"
   ]
  },
  {
   "cell_type": "code",
   "execution_count": 22,
   "id": "aab98e56-b153-4d7f-8e1c-614de94857d7",
   "metadata": {},
   "outputs": [],
   "source": [
    "c2 = testclassAtt()"
   ]
  },
  {
   "cell_type": "code",
   "execution_count": 23,
   "id": "64cbfb37-10de-4599-baca-6309d2233b75",
   "metadata": {},
   "outputs": [],
   "source": [
    "c2.increaseCount()"
   ]
  },
  {
   "cell_type": "code",
   "execution_count": 24,
   "id": "b3a8cd84-b7c0-4b40-a34a-d25bccf70ec2",
   "metadata": {},
   "outputs": [
    {
     "data": {
      "text/plain": [
       "2"
      ]
     },
     "execution_count": 24,
     "metadata": {},
     "output_type": "execute_result"
    }
   ],
   "source": [
    "c2.count"
   ]
  },
  {
   "cell_type": "code",
   "execution_count": 25,
   "id": "cb74e80b-3efa-4c1c-a3b4-7bd819a76ca8",
   "metadata": {},
   "outputs": [
    {
     "data": {
      "text/plain": [
       "2"
      ]
     },
     "execution_count": 25,
     "metadata": {},
     "output_type": "execute_result"
    }
   ],
   "source": [
    "testclassAtt.count"
   ]
  },
  {
   "cell_type": "markdown",
   "id": "69bb6976-c914-4577-86b7-c4cc011cb563",
   "metadata": {},
   "source": [
    "## Q4. Where and how are instance attributes created?"
   ]
  },
  {
   "cell_type": "markdown",
   "id": "9caad45a-7dd0-4467-b38f-0323a27ea3a1",
   "metadata": {},
   "source": [
    "The instance attributes are defined inside a constructor using the self parameter."
   ]
  },
  {
   "cell_type": "code",
   "execution_count": 31,
   "id": "6a07ad3d-6e33-4f9a-82dc-37d36642e2a5",
   "metadata": {},
   "outputs": [],
   "source": [
    "class student:\n",
    "    \n",
    "    def __init__(self, name, rollno):\n",
    "        self.name = name            # instance attributes\n",
    "        self.rollno = rollno\n",
    "    "
   ]
  },
  {
   "cell_type": "code",
   "execution_count": 27,
   "id": "fbd59cd3-9cff-467a-b0f0-87de84b17c70",
   "metadata": {},
   "outputs": [],
   "source": [
    "s1 = student('krishna', '123456789')"
   ]
  },
  {
   "cell_type": "code",
   "execution_count": 28,
   "id": "4c34d430-8c86-44ba-9802-d5c4de7ef169",
   "metadata": {},
   "outputs": [
    {
     "data": {
      "text/plain": [
       "'krishna'"
      ]
     },
     "execution_count": 28,
     "metadata": {},
     "output_type": "execute_result"
    }
   ],
   "source": [
    "s1.name"
   ]
  },
  {
   "cell_type": "code",
   "execution_count": 29,
   "id": "87d0ee8a-36f7-4d38-9f45-dd85f42969d8",
   "metadata": {},
   "outputs": [
    {
     "data": {
      "text/plain": [
       "'123456789'"
      ]
     },
     "execution_count": 29,
     "metadata": {},
     "output_type": "execute_result"
    }
   ],
   "source": [
    "s1.rollno"
   ]
  },
  {
   "cell_type": "markdown",
   "id": "70c6f16d-49a2-40f4-960d-5a48e746c7a3",
   "metadata": {},
   "source": [
    "## Q5. What does the term &quot;self&quot; in a Python class mean?"
   ]
  },
  {
   "cell_type": "markdown",
   "id": "0b03b8de-67eb-4df4-bbbc-c1b3524051cf",
   "metadata": {},
   "source": [
    "The first parameter of each method in a class must be the self , which refers to the calling object.\n",
    "\n",
    "However, the programmer can give any name to the first parameter, not necessarily self"
   ]
  },
  {
   "cell_type": "markdown",
   "id": "ba92392e-88bc-4011-b95d-7fabecbe8233",
   "metadata": {},
   "source": [
    "The self says that the the class object it self is the default parameter for all methods defined in the class"
   ]
  },
  {
   "cell_type": "markdown",
   "id": "01fe2bc4-2c41-4022-96cc-3c30c9b3cc8a",
   "metadata": {},
   "source": [
    "## Q6. How does a Python class handle operator overloading?"
   ]
  },
  {
   "cell_type": "markdown",
   "id": "4bce632f-8422-4847-8d76-49a6995a7e17",
   "metadata": {},
   "source": [
    "Operator Overloading means giving extended meaning beyond their predefined operational meaning."
   ]
  },
  {
   "cell_type": "markdown",
   "id": "20655efa-85e9-4ea4-b5ab-9d61feb0ac25",
   "metadata": {},
   "source": [
    "Example:"
   ]
  },
  {
   "cell_type": "code",
   "execution_count": 38,
   "id": "2897de24-232e-4424-8bbe-51deb9ee8d5b",
   "metadata": {},
   "outputs": [],
   "source": [
    "# operator + overloading\n",
    "\n",
    "class BookX:\n",
    "    def __init__(self, pages):\n",
    "        self.pages = pages\n",
    "        \n",
    "    def __add__(self, other):\n",
    "        return self.pages + other.pages"
   ]
  },
  {
   "cell_type": "code",
   "execution_count": 39,
   "id": "6aa0bfc1-8e4b-41dc-bdc5-4a282effe8b1",
   "metadata": {},
   "outputs": [],
   "source": [
    "class BookY:\n",
    "    def __init__(self, pages):\n",
    "        self.pages = pages\n",
    "        \n",
    "    def __add__(self, other):\n",
    "        return self.pages + other.pages"
   ]
  },
  {
   "cell_type": "code",
   "execution_count": 40,
   "id": "98847433-3680-4449-a6f7-5049096968a5",
   "metadata": {},
   "outputs": [],
   "source": [
    "b1 = BookX(100)"
   ]
  },
  {
   "cell_type": "code",
   "execution_count": 41,
   "id": "f6275262-6390-471c-a267-c02584f2128f",
   "metadata": {},
   "outputs": [],
   "source": [
    "b2 = BookY(200)"
   ]
  },
  {
   "cell_type": "code",
   "execution_count": 42,
   "id": "66f48a8e-c326-40f6-98cd-87f562f46946",
   "metadata": {},
   "outputs": [
    {
     "name": "stdout",
     "output_type": "stream",
     "text": [
      "Total no.of pages: 300\n"
     ]
    }
   ],
   "source": [
    "print(f'Total no.of pages: {b1 + b2}')"
   ]
  },
  {
   "cell_type": "markdown",
   "id": "7b36f338-3c62-45e4-93ba-71611145b277",
   "metadata": {},
   "source": [
    "## Q7. When do you consider allowing operator overloading of your classes?"
   ]
  },
  {
   "cell_type": "markdown",
   "id": "95b5d4bc-f122-4940-a068-a91b30942e5b",
   "metadata": {},
   "source": [
    "The operator overloading will be used when it is required to add additional features to the existing functionality.\n",
    "\n",
    "Whenever you change the behavior of the existing operator through operator overloading, you have to redefine the special function that is invoked automatically when the operator is used with the objects. "
   ]
  },
  {
   "cell_type": "markdown",
   "id": "bc8f6ada-1b76-4b8c-bade-968456d4ef22",
   "metadata": {},
   "source": [
    "## Q8. What is the most popular form of operator overloading?"
   ]
  },
  {
   "cell_type": "markdown",
   "id": "d3fae8fe-3651-4e89-a702-990c9e5e18a5",
   "metadata": {},
   "source": [
    "A very popular and convenient example is the Addition (+) operator."
   ]
  },
  {
   "cell_type": "markdown",
   "id": "1e09db47-305b-4d68-9947-3680bc82df65",
   "metadata": {},
   "source": [
    "## Q9. What are the two most important concepts to grasp in order to comprehend Python OOP code?"
   ]
  },
  {
   "cell_type": "markdown",
   "id": "6e11c182-20a0-4746-b4e7-f02b06c8fb0e",
   "metadata": {},
   "source": [
    "inheritance and polymorphism are the most important concepts of OOPs"
   ]
  },
  {
   "cell_type": "code",
   "execution_count": null,
   "id": "ac251e6c-2594-4727-bbbd-fe35830ec4e0",
   "metadata": {},
   "outputs": [],
   "source": []
  }
 ],
 "metadata": {
  "kernelspec": {
   "display_name": "Python 3 (ipykernel)",
   "language": "python",
   "name": "python3"
  },
  "language_info": {
   "codemirror_mode": {
    "name": "ipython",
    "version": 3
   },
   "file_extension": ".py",
   "mimetype": "text/x-python",
   "name": "python",
   "nbconvert_exporter": "python",
   "pygments_lexer": "ipython3",
   "version": "3.10.6"
  }
 },
 "nbformat": 4,
 "nbformat_minor": 5
}
