{
 "cells": [
  {
   "cell_type": "markdown",
   "id": "61718d9e-66a4-4aa6-8216-2a44937cfe78",
   "metadata": {},
   "source": [
    "## Q1. What are the two latest user-defined exception constraints in Python 3.X?"
   ]
  },
  {
   "cell_type": "markdown",
   "id": "55504316-95ff-46b8-8564-a70a67ac1e84",
   "metadata": {},
   "source": [
    "In 3.0, exceptions must be defined by classes (that is, a class instance object is raised and caught). In addition, exception classes must be derived from the built-in class BaseException (most programs inherit from its Exception subclass, to support catchall handlers for normal kinds of exceptions)."
   ]
  },
  {
   "cell_type": "markdown",
   "id": "b1815015-b6ed-4791-b777-6822f8efffcb",
   "metadata": {},
   "source": [
    "## Q2. How are class-based exceptions that have been raised matched to handlers?"
   ]
  },
  {
   "cell_type": "markdown",
   "id": "eb4451da-8804-4fa9-9f8e-68c53304782d",
   "metadata": {},
   "source": [
    " Class-based exceptions match by superclass relationships: naming a superclass in an exception handler will catch instances of that class, as well as instances of any\n",
    "of its subclasses lower in the class tree. Because of this, you can think of superclasses as general exception categories and subclasses as more specific types of exceptions\n",
    "within those categories"
   ]
  },
  {
   "cell_type": "markdown",
   "id": "b68d1be7-15c6-46b7-8d64-fe33edbbae36",
   "metadata": {},
   "source": [
    "## Q3. Describe two methods for attaching context information to exception artefacts."
   ]
  },
  {
   "cell_type": "markdown",
   "id": "f9d6482c-a0c7-4a58-9015-2aa6093abf31",
   "metadata": {},
   "source": [
    "You can attach context information to class-based exceptions by filling out instance attributes in the instance object raised, usually in a custom class constructor. For simpler needs, built-in exception superclasses provide a constructor that stores its arguments on the instance automatically (in the attribute args). In exception han\u0002dlers, you list a variable to be assigned to the raised instance, then go through this name to access attached state information and call any methods defined in the class."
   ]
  },
  {
   "cell_type": "markdown",
   "id": "1918f51f-5c3d-4336-9649-6cd9b4c58410",
   "metadata": {},
   "source": [
    "## Q4. Describe two methods for specifying the text of an exception object&#39;s error message."
   ]
  },
  {
   "cell_type": "markdown",
   "id": "fe31c683-0f4c-47cd-b139-5df6de55029f",
   "metadata": {},
   "source": [
    "The error message text in class-based exceptions can be specified with a custom __str__ operator overloading method. For simpler needs, built-in exception su\u0002perclasses automatically display anything you pass to the class constructor. Oper\u0002ations like print and str automatically fetch the display string of an exception object when is it printed either explicitly or as part of an error message."
   ]
  },
  {
   "cell_type": "markdown",
   "id": "134d147e-56a2-4b2f-9cd0-2259def843b6",
   "metadata": {},
   "source": [
    "## Q5. Why do you no longer use string-based exceptions?"
   ]
  },
  {
   "cell_type": "markdown",
   "id": "83b4b328-caf9-44dd-b529-2475ad940a15",
   "metadata": {},
   "source": [
    "String-based exceptions did not support categories, state information, or behavior inheritance in the way class-based ex\u0002ceptions do. In practice, this made string-based exceptions easier to use at first, when programs were small, but more complex to use as programs grew larger.\n"
   ]
  }
 ],
 "metadata": {
  "kernelspec": {
   "display_name": "Python 3 (ipykernel)",
   "language": "python",
   "name": "python3"
  },
  "language_info": {
   "codemirror_mode": {
    "name": "ipython",
    "version": 3
   },
   "file_extension": ".py",
   "mimetype": "text/x-python",
   "name": "python",
   "nbconvert_exporter": "python",
   "pygments_lexer": "ipython3",
   "version": "3.10.6"
  }
 },
 "nbformat": 4,
 "nbformat_minor": 5
}
