{
 "cells": [
  {
   "cell_type": "markdown",
   "id": "6e845651-0cc5-459c-8f4b-64a9951d37f8",
   "metadata": {},
   "source": [
    "## 1. What is the concept of an abstract superclass?"
   ]
  },
  {
   "cell_type": "markdown",
   "id": "b5705dae-774a-4e23-a956-1efbbc445e0d",
   "metadata": {},
   "source": [
    "An abstract superclass is one way to provide re-usable code.\n",
    "\n",
    "You can extend the abstract class and inherit the code. This is sometimes more convenient than using static methods or object composition to share code.\n",
    "\n",
    "The abstract class can \"fix\" parts of the code (by making it final). This is called the \"template method\" pattern (and this is not possible with an interface, which cannot provide final methods)."
   ]
  },
  {
   "cell_type": "markdown",
   "id": "0e180c19-9552-4d68-b559-f6ee26c45609",
   "metadata": {},
   "source": [
    "## 2. What happens when a class statement&#39;s top level contains a basic assignment statement?"
   ]
  },
  {
   "cell_type": "markdown",
   "id": "514b7484-7fa4-48bd-85dc-97c291794bac",
   "metadata": {},
   "source": [
    "If a basic assignment statement is made at the top level of the class, then this is called a class attribute, and it will be attached to the class hence it will be shared by all instances of the class."
   ]
  },
  {
   "cell_type": "markdown",
   "id": "0e7132b5-f78a-421b-8d96-b23f5a4b1194",
   "metadata": {},
   "source": [
    "## 3. Why does a class need to manually call a superclass&#39;s __init__ method?"
   ]
  },
  {
   "cell_type": "markdown",
   "id": "f85a8ae6-9e19-45dc-876a-06b92ec490a1",
   "metadata": {},
   "source": [
    "If the subclass has a constructor, it overrides the parent class constructor. Hence we need to call the suer class constructor manually using init method."
   ]
  },
  {
   "cell_type": "markdown",
   "id": "896732c7-e0ba-4725-a6b2-a1e86f0a6dc2",
   "metadata": {},
   "source": [
    "## 4. How can you augment, instead of completely replacing, an inherited method?"
   ]
  },
  {
   "cell_type": "markdown",
   "id": "c424c849-52a4-46e0-9b63-4f044d3a03d4",
   "metadata": {},
   "source": [
    "Instead of replacing the inherited method, the original method will be called directly using the parent class with the augmented arguments."
   ]
  },
  {
   "cell_type": "markdown",
   "id": "60bc9050-c7be-40f6-8bf3-9da8aa70c3e7",
   "metadata": {},
   "source": [
    "## 5. How is the local scope of a class different from that of a function?"
   ]
  },
  {
   "cell_type": "markdown",
   "id": "f540c78f-a8dc-47d9-aa79-d0432f88cc67",
   "metadata": {},
   "source": [
    "Class Variable, this is like a static variable and can be called using the class name. These variables are available to all functions, any functions can modify it and print it.\n",
    "\n",
    "If the variable is declared without self then it is accessible within that function only, like a local variable for the function. However, if it was declared using self, then it is accessible via any object but not via the class name."
   ]
  },
  {
   "cell_type": "code",
   "execution_count": null,
   "id": "c0daefad-2f14-4be3-b45b-54b03a880946",
   "metadata": {},
   "outputs": [],
   "source": []
  }
 ],
 "metadata": {
  "kernelspec": {
   "display_name": "Python 3 (ipykernel)",
   "language": "python",
   "name": "python3"
  },
  "language_info": {
   "codemirror_mode": {
    "name": "ipython",
    "version": 3
   },
   "file_extension": ".py",
   "mimetype": "text/x-python",
   "name": "python",
   "nbconvert_exporter": "python",
   "pygments_lexer": "ipython3",
   "version": "3.10.6"
  }
 },
 "nbformat": 4,
 "nbformat_minor": 5
}
