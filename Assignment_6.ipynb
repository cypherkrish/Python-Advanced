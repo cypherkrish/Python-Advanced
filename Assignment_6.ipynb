{
 "cells": [
  {
   "cell_type": "markdown",
   "id": "1a7ae663-a1aa-46f8-80d9-96a9c07987bd",
   "metadata": {},
   "source": [
    "## Q1. Describe three applications for exception processing."
   ]
  },
  {
   "cell_type": "markdown",
   "id": "c8762d33-31c5-4b04-9b56-43284824ff38",
   "metadata": {},
   "source": [
    "Programme raises exceptions whenever it detects errors in programs at runtime. You can catch and respond to the errors in your code, or ignore the exceptions that are raised. If an error is ignored, Python’s default exception-handling behavior kicks in: it stops the program and prints an error message. If you don’t want this default behavior the exception handeling should be inplace.\n",
    "\n",
    "Exceptions can also be used to signal valid conditions without you having to pass result flags around a program or test them explicitly.\n",
    "\n",
    "Sometimes a condition may occur so rarely that it’s hard to justify convoluting your code to handle it. You can often eliminate special-case code by handling unusual cases in exception handlers in higher levels of your program."
   ]
  },
  {
   "cell_type": "markdown",
   "id": "80d7f379-2731-4344-b241-e77f6c160f4b",
   "metadata": {},
   "source": [
    "## Q2. What happens if you don&#39;t do something extra to treat an exception?"
   ]
  },
  {
   "cell_type": "markdown",
   "id": "6c076c7f-28b3-4ef7-8420-3307e0f30212",
   "metadata": {},
   "source": [
    "If the exceptions are not handled properly, then by default, the exception will stop the programme abruptly."
   ]
  },
  {
   "cell_type": "markdown",
   "id": "836f46a2-1918-4ac9-aedd-d5d0996acbe7",
   "metadata": {},
   "source": [
    "## Q3. What are your options for recovering from an exception in your script? "
   ]
  },
  {
   "cell_type": "markdown",
   "id": "f8c0db1d-d199-47ba-8670-33289b30da52",
   "metadata": {},
   "source": [
    "Define the program by placing the suspicious code in a try: block. \n",
    "\n",
    "After the try: block, include an except: statement, followed by a block of code which handles the problem as elegantly as possible."
   ]
  },
  {
   "cell_type": "markdown",
   "id": "ff2f640e-d6b5-4a5d-9475-29815bff52cb",
   "metadata": {},
   "source": [
    "## Q4. Describe two methods for triggering exceptions in your script."
   ]
  },
  {
   "cell_type": "markdown",
   "id": "930f8573-0461-440d-8ce6-9cffb7ae6d93",
   "metadata": {},
   "source": [
    "There are two methods to handle Python exceptions:\n",
    "\n",
    "Try – This method catches the exceptions raised by the program\n",
    "\n",
    "Raise – Triggers an exception manually using custom exceptions"
   ]
  },
  {
   "cell_type": "markdown",
   "id": "b715dbbf-e924-4f04-84d5-7f7a6d4acc84",
   "metadata": {},
   "source": [
    "## Q5. Identify two methods for specifying actions to be executed at termination time, regardless of whether or not an exception exists."
   ]
  },
  {
   "cell_type": "markdown",
   "id": "c734de84-7878-4f72-bdd0-248abdb10e75",
   "metadata": {},
   "source": [
    "1. Finally: Here, if the try block finishes without an exception, the finally block will run, and the program will resume after the entire try\n",
    "\n",
    "2. Else: In python, we can use else clause on the try-except block which must be present after all the except clauses. The code enters the else block only if the try clause does not raise an exception."
   ]
  },
  {
   "cell_type": "code",
   "execution_count": null,
   "id": "5486d742-392b-4743-aa65-994c89d8016f",
   "metadata": {},
   "outputs": [],
   "source": []
  }
 ],
 "metadata": {
  "kernelspec": {
   "display_name": "Python 3 (ipykernel)",
   "language": "python",
   "name": "python3"
  },
  "language_info": {
   "codemirror_mode": {
    "name": "ipython",
    "version": 3
   },
   "file_extension": ".py",
   "mimetype": "text/x-python",
   "name": "python",
   "nbconvert_exporter": "python",
   "pygments_lexer": "ipython3",
   "version": "3.10.6"
  }
 },
 "nbformat": 4,
 "nbformat_minor": 5
}
