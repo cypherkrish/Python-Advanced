{
 "cells": [
  {
   "cell_type": "markdown",
   "id": "6231320c-7832-4da0-89d8-788ce7895f4c",
   "metadata": {},
   "source": [
    "# Q1. Which two operator overloading methods can you use in your classes to support iteration?"
   ]
  },
  {
   "cell_type": "markdown",
   "id": "c9930acf-cc89-4c94-9865-059fa72402ed",
   "metadata": {},
   "source": [
    "the classess support iteration ovverloading by defining either __iter__ or __getitem__ methods.\n",
    "\n",
    "The __iter__ method returns an object that supports the iteration proticol with a __next__ method."
   ]
  },
  {
   "cell_type": "markdown",
   "id": "2ae93bf5-6cdd-4c3e-913a-ae961544fdd2",
   "metadata": {},
   "source": [
    "# Q2. In what contexts do the two operator overloading methods manage printing?"
   ]
  },
  {
   "cell_type": "markdown",
   "id": "60d7b6e3-6902-4781-a3f4-16e1729d80e1",
   "metadata": {},
   "source": [
    "The __str__ and __repr__ methods implement object print displays."
   ]
  },
  {
   "cell_type": "markdown",
   "id": "41a23ca2-512f-4b53-aba0-9eb4db106233",
   "metadata": {},
   "source": [
    "# Q3. In a class, how do you intercept slice operations?"
   ]
  },
  {
   "cell_type": "markdown",
   "id": "752c1908-9dcc-472b-bf49-c9d943872a15",
   "metadata": {},
   "source": [
    "Slicing is caught by the __getitem__ indexing method.\n",
    "\n",
    "It is called with a slice object, instead of a simple index"
   ]
  },
  {
   "cell_type": "markdown",
   "id": "db1d05f6-5164-4964-94b5-acc264f8cc84",
   "metadata": {},
   "source": [
    "# Q4. In a class, how do you capture in-place addition?"
   ]
  },
  {
   "cell_type": "markdown",
   "id": "7f489b9d-fd8f-4597-9522-b8dbd6eaf7ce",
   "metadata": {},
   "source": [
    "The inplace addition  (+=) can be captured using the __iadd__ function overloading\n",
    "\n",
    "Example: object.__iadd__(self, other)\n",
    "\n",
    "Inplace addition tries __iadd__ first and then __add__ with an assignment second."
   ]
  },
  {
   "cell_type": "markdown",
   "id": "dc4ae54b-2e9e-4b28-8eb0-7e33eea9a0d4",
   "metadata": {},
   "source": [
    "# Q5. When is it appropriate to use operator overloading?"
   ]
  },
  {
   "cell_type": "markdown",
   "id": "9283c01c-07a2-4088-b390-51526ad7aeb4",
   "metadata": {},
   "source": [
    "If it is required to have an operator performs additional actios other than what it is meant for."
   ]
  }
 ],
 "metadata": {
  "kernelspec": {
   "display_name": "Python 3 (ipykernel)",
   "language": "python",
   "name": "python3"
  },
  "language_info": {
   "codemirror_mode": {
    "name": "ipython",
    "version": 3
   },
   "file_extension": ".py",
   "mimetype": "text/x-python",
   "name": "python",
   "nbconvert_exporter": "python",
   "pygments_lexer": "ipython3",
   "version": "3.10.6"
  }
 },
 "nbformat": 4,
 "nbformat_minor": 5
}
