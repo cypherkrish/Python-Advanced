{
 "cells": [
  {
   "cell_type": "markdown",
   "id": "e41b6279-db4d-4829-a38e-a48600cb930d",
   "metadata": {},
   "source": [
    "# Q1. What is the meaning of multiple inheritance?"
   ]
  },
  {
   "cell_type": "markdown",
   "id": "a384140f-4765-416e-b7e8-b0efc8d5c936",
   "metadata": {},
   "source": [
    "Deriving a subclass from more than two superclasses."
   ]
  },
  {
   "cell_type": "markdown",
   "id": "5f115536-4426-48f4-a3e3-23c1bb149a97",
   "metadata": {},
   "source": [
    "# Q2. What is the concept of delegation?"
   ]
  },
  {
   "cell_type": "markdown",
   "id": "7a6904ff-b392-4ac9-a50d-1da3723aad9d",
   "metadata": {},
   "source": [
    "\n",
    "Delegation involves wrapping an object in a proxy class, which adds extra behavior\n",
    "and passes other operations to the wrapped object. The proxy retains the interface\n",
    "of the wrapped object."
   ]
  },
  {
   "cell_type": "markdown",
   "id": "74360cf6-c104-4d80-91ba-462738a1edd6",
   "metadata": {},
   "source": [
    "# Q3. What is the concept of composition?"
   ]
  },
  {
   "cell_type": "markdown",
   "id": "ec56386e-3cf5-47e1-a71e-e9fa21421650",
   "metadata": {},
   "source": [
    "Composition is a technique whereby a controller class embeds and directs a number\n",
    "of objects, and provides an interface all its own; it’s a way to build up larger\n",
    "structures with classes."
   ]
  },
  {
   "cell_type": "markdown",
   "id": "b137872a-ecb7-4a8d-9e55-a2e20b086cdf",
   "metadata": {},
   "source": [
    "# Q4. What are bound methods and how do we use them?"
   ]
  },
  {
   "cell_type": "markdown",
   "id": "5e3591a3-bb80-4ac0-8290-96834d9b5267",
   "metadata": {},
   "source": [
    "Bound methods combine an instance and a method function; you can call them\n",
    "without passing in an instance object explicitly because the original instance is still\n",
    "available."
   ]
  },
  {
   "cell_type": "markdown",
   "id": "fb10d1ee-44d0-4bd4-bcd1-072206b73281",
   "metadata": {},
   "source": [
    "# Q5. What is the purpose of pseudoprivate attributes?"
   ]
  },
  {
   "cell_type": "markdown",
   "id": "3f0ebdc4-d470-4f57-bf49-c41884245b73",
   "metadata": {},
   "source": [
    "Pseudoprivate attributes (whose names begin with two leading underscores: __X)\n",
    "are used to localize names to the enclosing class. This includes both class attributes\n",
    "like methods defined inside the class, and self instance attributes assigned inside\n",
    "the class. Such names are expanded to include the class name, which makes them\n",
    "unique.\n",
    "Test"
   ]
  },
  {
   "cell_type": "code",
   "execution_count": null,
   "id": "e66cf567-104f-4bf5-86ca-814a7e0f6f9a",
   "metadata": {},
   "outputs": [],
   "source": []
  }
 ],
 "metadata": {
  "kernelspec": {
   "display_name": "Python 3 (ipykernel)",
   "language": "python",
   "name": "python3"
  },
  "language_info": {
   "codemirror_mode": {
    "name": "ipython",
    "version": 3
   },
   "file_extension": ".py",
   "mimetype": "text/x-python",
   "name": "python",
   "nbconvert_exporter": "python",
   "pygments_lexer": "ipython3",
   "version": "3.10.6"
  }
 },
 "nbformat": 4,
 "nbformat_minor": 5
}
