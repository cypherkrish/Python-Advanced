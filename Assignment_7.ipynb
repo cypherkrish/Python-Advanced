{
 "cells": [
  {
   "cell_type": "markdown",
   "id": "ed00d15d-ac2b-4c8c-a6db-897f57063fbc",
   "metadata": {},
   "source": [
    "## Q1. What is the purpose of the try statement?"
   ]
  },
  {
   "cell_type": "markdown",
   "id": "4cbc1589-574a-4e29-b1a6-94886e2c4cc8",
   "metadata": {},
   "source": [
    "Try and except statements are used to catch and handle exceptions in Python. Statements that can raise exceptions are kept inside the try clause and the statements that handle the exception are written inside except clause."
   ]
  },
  {
   "cell_type": "markdown",
   "id": "ecd15d7e-0cee-449b-be63-0048a596b2ae",
   "metadata": {},
   "source": [
    "## Q2. What are the two most popular try statement variations?"
   ]
  },
  {
   "cell_type": "markdown",
   "id": "b3835ea6-e94f-4eb9-866d-d05185f6b7c6",
   "metadata": {},
   "source": [
    "Variation 1:try-except\n",
    "\n",
    "try: # statement(s)\n",
    "\n",
    "except IndexError: # statement(s)\n",
    "\n",
    "except ValueError: # statement(s)"
   ]
  },
  {
   "cell_type": "markdown",
   "id": "d6ad9e6d-6ee8-4d1e-be00-70683915217e",
   "metadata": {},
   "source": [
    "Variation 2:\n",
    "\n",
    "try:\n",
    "    # Some Code.... \n",
    "\n",
    "\n",
    "except:\n",
    "    # optional block\n",
    "    # Handling of exception (if required)\n",
    "\n",
    "\n",
    "else:\n",
    "    # execute if no exception\n",
    "\n",
    "\n",
    "finally:\n",
    "    # Some code .....(always executed)"
   ]
  },
  {
   "cell_type": "markdown",
   "id": "652931e0-7be8-47a5-ab24-ec8fd7073e50",
   "metadata": {},
   "source": [
    "## Q3. What is the purpose of the raise statement?"
   ]
  },
  {
   "cell_type": "markdown",
   "id": "46bd065b-f2b2-4248-b215-336b078e8d9e",
   "metadata": {},
   "source": [
    "To trigger an exception manually, simply run a raise statement."
   ]
  },
  {
   "cell_type": "markdown",
   "id": "230774f3-9ab6-459d-931c-c7b9887913f8",
   "metadata": {},
   "source": [
    "## Q4. What does the assert statement do, and what other statement is it like?"
   ]
  },
  {
   "cell_type": "markdown",
   "id": "5f4d8285-af75-4ccb-8e39-23356e1f1bdb",
   "metadata": {},
   "source": [
    "The assert statement can be used to trigger exceptions"
   ]
  },
  {
   "cell_type": "markdown",
   "id": "0d2f33de-d2f0-4f08-a4e3-d7ca910976bb",
   "metadata": {},
   "source": [
    "In Python, with statement is used in exception handling to make the code cleaner and much more readable. It simplifies the management of common resources like file streams"
   ]
  },
  {
   "cell_type": "code",
   "execution_count": null,
   "id": "30d581ee-eb9d-40db-87a6-658ae5e41662",
   "metadata": {},
   "outputs": [],
   "source": []
  }
 ],
 "metadata": {
  "kernelspec": {
   "display_name": "Python 3 (ipykernel)",
   "language": "python",
   "name": "python3"
  },
  "language_info": {
   "codemirror_mode": {
    "name": "ipython",
    "version": 3
   },
   "file_extension": ".py",
   "mimetype": "text/x-python",
   "name": "python",
   "nbconvert_exporter": "python",
   "pygments_lexer": "ipython3",
   "version": "3.10.6"
  }
 },
 "nbformat": 4,
 "nbformat_minor": 5
}
